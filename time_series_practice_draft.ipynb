{
 "cells": [
  {
   "cell_type": "markdown",
   "id": "9c2d4b4d",
   "metadata": {},
   "source": [
    "# Анализ временных рядов - практика"
   ]
  },
  {
   "cell_type": "code",
   "execution_count": null,
   "id": "37d23af6",
   "metadata": {},
   "outputs": [],
   "source": [
    "import pandas as pd\n",
    "import matplotlib.pyplot as plt\n",
    "import seaborn as sns\n",
    "import numpy as np"
   ]
  },
  {
   "cell_type": "code",
   "execution_count": null,
   "id": "3edc0aa6",
   "metadata": {},
   "outputs": [],
   "source": [
    "from statsmodels.tsa.stattools import adfuller\n",
    "from statsmodels.tsa.seasonal import seasonal_decompose"
   ]
  },
  {
   "cell_type": "code",
   "execution_count": null,
   "id": "59ed17d1",
   "metadata": {},
   "outputs": [],
   "source": [
    "from sklearn.metrics import mean_absolute_error as mae\n",
    "from sklearn.metrics import r2_score"
   ]
  },
  {
   "cell_type": "markdown",
   "id": "b5f5bef2",
   "metadata": {},
   "source": [
    "## Данные"
   ]
  },
  {
   "cell_type": "markdown",
   "id": "405d2ebe",
   "metadata": {},
   "source": [
    "В этой практике работаем с пятилетней историей посещения портала [statforecasting.com](https://regressit.com/statforecasting.com/). \n",
    "\n",
    "Описание данных:\n",
    "- **day** - день недели\n",
    "- **day_of_week** - номер дня недели\n",
    "- **date** - дата в формате год-месяц-день\n",
    "- **page_loads** - количество загрузок страницы\n",
    "- **unique_visits** - количество уникальных посетителей\n",
    "- **first_time_visits** - количество новых посетителей\n",
    "- **returning_visits** - количество неновых посетителей\n",
    "\n",
    "Данные прошли небольшую предобработку и немного отличаются от [оригинала](https://www.kaggle.com/datasets/bobnau/daily-website-visitors):\n",
    "- внесены косметические правки в названиях колонок и в стиль написания чисел\n",
    "- проверили, что нет пропусков в временном ряду\n",
    "\n",
    "Мысли по этим данным:\n",
    "- Данные подвержены сложной сезонности: как внутри недели, так и помесячно.\n",
    "- Можно обучить модели прогнозировать трафик на 1 день вперед, на 7 дней вперед (на каждый день) или прогноз в целом на неделю.\n",
    "- Подходы, рассмотренные здесь, применимы для как для прогноза трафика других сервисов, так и в целом для прогнозов любых временных рядов\n",
    "\n",
    "Прогнозируем количество загрузок страниц"
   ]
  },
  {
   "cell_type": "markdown",
   "id": "7f2bb4dc",
   "metadata": {},
   "source": [
    "Считаем данные и убедимся, что все в порядке!"
   ]
  },
  {
   "cell_type": "code",
   "execution_count": null,
   "id": "b256c9a3",
   "metadata": {},
   "outputs": [],
   "source": [
    "df = pd.read_csv('https://raw.githubusercontent.com/elentevanyan/time_series_analysis/main/daily_website_visitors_prep.csv')\n",
    "df.head()"
   ]
  },
  {
   "cell_type": "markdown",
   "id": "c31cf859",
   "metadata": {},
   "source": [
    "Что может быть не в порядке?\n",
    "\n",
    "- пропуски: разные значения числа строк и записей в колонках\n",
    "- типы данных: категории могут быть считаны как числа и наоборот, даты - тексты"
   ]
  },
  {
   "cell_type": "code",
   "execution_count": null,
   "id": "25a12b2d",
   "metadata": {},
   "outputs": [],
   "source": [
    "df.info()"
   ]
  },
  {
   "cell_type": "markdown",
   "id": "4dc56f39",
   "metadata": {},
   "source": [
    "Для удобства переведем колонку даты в тип datetime. Тогда, если понадобится, сможем в 1-2 шага делать различные манипуляции с колонкой или создавать из нее новые: находить год, месяц, неделю готовыми командами.\n",
    "\n",
    "Есть несколько способов смены типа колонки. Чтобы не подгружать дополнительные библиотеки, вытащим из пандас-сундука функцию:"
   ]
  },
  {
   "cell_type": "code",
   "execution_count": null,
   "id": "a9a7db61",
   "metadata": {},
   "outputs": [],
   "source": [
    "df['date'] = pd.to_datetime(df['date'])\n",
    "df.dtypes"
   ]
  },
  {
   "cell_type": "markdown",
   "id": "c24fadef",
   "metadata": {},
   "source": [
    "## Изучение данных"
   ]
  },
  {
   "cell_type": "markdown",
   "id": "bc77aaaa",
   "metadata": {},
   "source": [
    "На лекции обсуждали, что временные ряды:\n",
    "- изучают визуально\n",
    "- раскладывают на компоненты\n",
    "- используют для прогноза будущих значений"
   ]
  },
  {
   "cell_type": "markdown",
   "id": "7dd91e73",
   "metadata": {},
   "source": [
    "В датасете не один временной ряд, а несколько - т.н. многомерный ряд.\n",
    "Для удобства в изучении данных выделим эти колонки в отдельную переменную:"
   ]
  },
  {
   "cell_type": "code",
   "execution_count": null,
   "id": "6a9dbe99",
   "metadata": {},
   "outputs": [],
   "source": [
    "series_cols = ['page_loads', 'unique_visits', 'first_time_visits', 'returning_visits']"
   ]
  },
  {
   "cell_type": "markdown",
   "id": "c258eb03",
   "metadata": {},
   "source": [
    "Посмотрим на основные **описательные статистики**:\n",
    "- количество наблюдений\n",
    "- среднее\n",
    "- стандартное отклонение\n",
    "- минимум\n",
    "- нижнюю квартиль (25-ый перцентиль)\n",
    "- медиану (50-ый перцентиль)\n",
    "- верхнюю квартиль (75-ый перцентиль)\n",
    "- максимум"
   ]
  },
  {
   "cell_type": "code",
   "execution_count": null,
   "id": "f7713763",
   "metadata": {},
   "outputs": [],
   "source": [
    "df[series_cols].describe().T"
   ]
  },
  {
   "cell_type": "markdown",
   "id": "dc90f628",
   "metadata": {},
   "source": [
    "Как будто бы бросающихся в глаза особенностей нет."
   ]
  },
  {
   "cell_type": "markdown",
   "id": "6ec34790",
   "metadata": {},
   "source": [
    "Интуитивно кажется, что временные ряды в этом датасете связаны между собой. <br>\n",
    "Давайте посчитаем корреляции и проверим, есть ли основания этой интуиции.\n",
    "\n",
    "Считаем матрицу корреляций, где каждая ячейка - корреляция между признаков. Чтобы не скучно было ее интерпретировать, визуализируем сразу в виде тепловой карты:"
   ]
  },
  {
   "cell_type": "code",
   "execution_count": null,
   "id": "6715b4cb",
   "metadata": {},
   "outputs": [],
   "source": [
    "mask = np.triu(np.ones_like(df[series_cols].corr(), dtype=bool))\n",
    "sns.heatmap(df[series_cols].corr(), annot=True, mask=mask)\n",
    "plt.show()"
   ]
  },
  {
   "cell_type": "markdown",
   "id": "0f9ee96e",
   "metadata": {},
   "source": [
    "Видим, что данные сильно похожи между собой! Зная один ряд, мы почти наверняка восстановим и другой ряд. \n",
    "Значит, не нужно думать о сложных методах, чтобы прогнозировать многомерные ряды."
   ]
  },
  {
   "cell_type": "markdown",
   "id": "85c9b5f5",
   "metadata": {},
   "source": [
    "А как выглядит исследуемый временной ряд?\n",
    "Построим подневную кривую и попробуем \"на глаз\" оценить:\n",
    "\n",
    "- среднее: если \"мысленно\" провести линию среднего, какая она - стабильная, растущая, убывающая?\n",
    "- разброс: как бы вы описали характер разброса данных по этой картинке?\n",
    "- есть ли какие-то паттерны?"
   ]
  },
  {
   "cell_type": "code",
   "execution_count": null,
   "id": "203f8697",
   "metadata": {},
   "outputs": [],
   "source": [
    "plt.figure(figsize=(20, 10))\n",
    "sns.lineplot(data=df, x='date', y='page_loads')\n",
    "plt.show()"
   ]
  },
  {
   "cell_type": "markdown",
   "id": "e62a8531",
   "metadata": {},
   "source": [
    "А если посмотреть на недельные данные? Месячные? Может быть, увидим интересное. Здесь и пригодится трансформация колонки даты - сделаем колонки, по которым сможем посчитать агрегации в нужных срезах."
   ]
  },
  {
   "cell_type": "code",
   "execution_count": null,
   "id": "ee086919",
   "metadata": {},
   "outputs": [],
   "source": [
    "df['year'] = df['date'].dt.year\n",
    "df['month'] = df['date'].dt.month\n",
    "df['week'] = df['date'].dt.isocalendar().week "
   ]
  },
  {
   "cell_type": "markdown",
   "id": "a7dc0c68",
   "metadata": {},
   "source": [
    "Вопросы к обсуждению остаются те же. Но при этом данных сразу за год нет, их надо собрать самим. С точки зрения техники совершенно не важно, как агрегируем и за какой временной период - суммируем, считаем среднее или медиану за период - код один и тот же по структуре.\n",
    "\n",
    "\n",
    "В следующих блоках делаем следующее:\n",
    "- собираем статистику (сумма, среднее, медиана и т.п.) за нужный период (год, месяц, неделя)\n",
    "- визуализируем кривую"
   ]
  },
  {
   "cell_type": "markdown",
   "id": "37b3d35b",
   "metadata": {},
   "source": [
    "### Годичная агрегация"
   ]
  },
  {
   "cell_type": "markdown",
   "id": "65989f4f",
   "metadata": {},
   "source": [
    "Начнем с анализа по годам. Как изменялось количество загрузок год от года?"
   ]
  },
  {
   "cell_type": "code",
   "execution_count": null,
   "id": "e1e38a45",
   "metadata": {},
   "outputs": [],
   "source": [
    "yearly_data = df.groupby('year')['page_loads'].mean().reset_index()\n",
    "yearly_data"
   ]
  },
  {
   "cell_type": "code",
   "execution_count": null,
   "id": "b2e25127",
   "metadata": {},
   "outputs": [],
   "source": [
    "plt.figure(figsize=(20, 10))\n",
    "sns.lineplot(data=yearly_data, x='year', y='page_loads')\n",
    "plt.show()"
   ]
  },
  {
   "cell_type": "markdown",
   "id": "0f330761",
   "metadata": {},
   "source": [
    "### Месячная агрегация"
   ]
  },
  {
   "cell_type": "markdown",
   "id": "439dd7ce",
   "metadata": {},
   "source": [
    "Теперь смотрим на ежемесячные данные. Обратите внимание, что данные за несколько лет. Агрегация только по месяцу смешает данные за разные годы, поэтому делаем агрегацию по году и месяцу"
   ]
  },
  {
   "cell_type": "code",
   "execution_count": null,
   "id": "55ce179c",
   "metadata": {},
   "outputs": [],
   "source": [
    "monthly_data = df.groupby(['year', 'month'])['page_loads'].mean().reset_index()\n",
    "monthly_data['index'] = monthly_data['year'].astype(str) + '_' + monthly_data['month'].astype(str)\n",
    "monthly_data"
   ]
  },
  {
   "cell_type": "code",
   "execution_count": null,
   "id": "92a6af62",
   "metadata": {},
   "outputs": [],
   "source": [
    "plt.figure(figsize=(20, 10))\n",
    "sns.lineplot(data=monthly_data, x='index', y='page_loads')\n",
    "plt.xticks(rotation=90)\n",
    "plt.show()"
   ]
  },
  {
   "cell_type": "markdown",
   "id": "ba3c4134",
   "metadata": {},
   "source": [
    "### Недельная агрегация"
   ]
  },
  {
   "cell_type": "code",
   "execution_count": null,
   "id": "91e000ac",
   "metadata": {},
   "outputs": [],
   "source": [
    "weekly_data = df.groupby(['year', 'week'])['page_loads'].mean().reset_index()\n",
    "weekly_data['index'] = weekly_data['year'].astype(str) + '_' + weekly_data['week'].astype(str)\n",
    "weekly_data"
   ]
  },
  {
   "cell_type": "code",
   "execution_count": null,
   "id": "94878271",
   "metadata": {},
   "outputs": [],
   "source": [
    "plt.figure(figsize=(30, 10))\n",
    "sns.lineplot(data=weekly_data, x='index', y='page_loads')\n",
    "plt.xticks(rotation=90)\n",
    "plt.show()"
   ]
  },
  {
   "cell_type": "markdown",
   "id": "510692f9",
   "metadata": {},
   "source": [
    "### Поиск сезонности"
   ]
  },
  {
   "cell_type": "code",
   "execution_count": null,
   "id": "a88b55f8",
   "metadata": {},
   "outputs": [],
   "source": [
    "sns.lineplot(data=df, x='day', y='page_loads', hue='year')"
   ]
  },
  {
   "cell_type": "code",
   "execution_count": null,
   "id": "2f3c0158",
   "metadata": {},
   "outputs": [],
   "source": [
    "sns.lineplot(data=df, x='month', y='page_loads', hue='year')"
   ]
  },
  {
   "cell_type": "markdown",
   "id": "d609908a",
   "metadata": {},
   "source": [
    "### Скользящее среднее"
   ]
  },
  {
   "cell_type": "code",
   "execution_count": null,
   "id": "912022ba",
   "metadata": {},
   "outputs": [],
   "source": [
    "moving_avg = df.drop(['date', 'day'], axis=1).rolling(window = 4).mean()[['page_loads']]\n",
    "plt.figure(figsize=(30, 10))\n",
    "sns.lineplot(moving_avg)"
   ]
  },
  {
   "cell_type": "code",
   "execution_count": null,
   "id": "7d2d7b87",
   "metadata": {},
   "outputs": [],
   "source": [
    "moving_avg = df.drop(['date', 'day'], axis=1).rolling(window = 20).mean()[['page_loads']]\n",
    "plt.figure(figsize=(30, 10))\n",
    "sns.lineplot(moving_avg)"
   ]
  },
  {
   "cell_type": "code",
   "execution_count": null,
   "id": "6083879e",
   "metadata": {},
   "outputs": [],
   "source": [
    "moving_avg = df.drop(['date', 'day'], axis=1).rolling(window = 50).mean()[['page_loads']]\n",
    "plt.figure(figsize=(30, 10))\n",
    "sns.lineplot(moving_avg)"
   ]
  },
  {
   "cell_type": "markdown",
   "id": "276cfff7",
   "metadata": {},
   "source": [
    "## Анализ компонент"
   ]
  },
  {
   "cell_type": "markdown",
   "id": "022fa753",
   "metadata": {},
   "source": [
    "### Попробовать самим смоделировать тренд и сезонность"
   ]
  },
  {
   "cell_type": "markdown",
   "id": "a54ff21d",
   "metadata": {},
   "source": [
    "место для простого правила оценки тренда"
   ]
  },
  {
   "cell_type": "markdown",
   "id": "e4d46f2f",
   "metadata": {},
   "source": [
    "место для простого правила оценки сезонности"
   ]
  },
  {
   "cell_type": "markdown",
   "id": "8f4ee403",
   "metadata": {},
   "source": [
    "место для расчета ошибок"
   ]
  },
  {
   "cell_type": "markdown",
   "id": "53a2746c",
   "metadata": {},
   "source": [
    "визуализация"
   ]
  },
  {
   "cell_type": "markdown",
   "id": "617f6fef",
   "metadata": {},
   "source": [
    "### Использование стандартных средств"
   ]
  },
  {
   "cell_type": "code",
   "execution_count": null,
   "id": "11a745ac",
   "metadata": {},
   "outputs": [],
   "source": [
    "tdi = pd.DatetimeIndex(df.date)\n",
    "df.set_index(tdi, inplace=True)"
   ]
  },
  {
   "cell_type": "markdown",
   "id": "39d81c6b",
   "metadata": {},
   "source": [
    "Рассказ о том, как работает эта часть"
   ]
  },
  {
   "cell_type": "code",
   "execution_count": null,
   "id": "720d1c44",
   "metadata": {},
   "outputs": [],
   "source": [
    "decompose = seasonal_decompose(x=df['page_loads'])\n",
    "decompose.plot()\n",
    "\n",
    "plt.show()"
   ]
  },
  {
   "cell_type": "markdown",
   "id": "6711b99c",
   "metadata": {},
   "source": [
    "Покопаться со всеми в сезонности - как в таблице, так и отдельно порисовать,"
   ]
  },
  {
   "cell_type": "markdown",
   "id": "c4dfc44c",
   "metadata": {},
   "source": [
    "## Моделирование"
   ]
  },
  {
   "cell_type": "markdown",
   "id": "fcd75503",
   "metadata": {},
   "source": [
    "### Разбиение на train - test"
   ]
  },
  {
   "cell_type": "code",
   "execution_count": null,
   "id": "f9dcd5cf",
   "metadata": {},
   "outputs": [],
   "source": [
    "df.index"
   ]
  },
  {
   "cell_type": "code",
   "execution_count": null,
   "id": "c0a6b6fa",
   "metadata": {},
   "outputs": [],
   "source": [
    "division_date = '2020-08-01'"
   ]
  },
  {
   "cell_type": "code",
   "execution_count": null,
   "id": "82106a90",
   "metadata": {},
   "outputs": [],
   "source": [
    "train_data = df[df.index < division_date]['page_loads']\n",
    "test_data = df[df.index >= division_date]['page_loads']"
   ]
  },
  {
   "cell_type": "code",
   "execution_count": null,
   "id": "c1146335",
   "metadata": {},
   "outputs": [],
   "source": [
    "plt.figure(figsize=(30, 10))\n",
    "sns.lineplot(train_data, color = \"blue\")\n",
    "sns.lineplot(test_data, color = \"red\")\n",
    "plt.show()"
   ]
  },
  {
   "cell_type": "code",
   "execution_count": null,
   "id": "20ad0e93",
   "metadata": {},
   "outputs": [],
   "source": [
    "len(test_data)"
   ]
  },
  {
   "cell_type": "markdown",
   "id": "57e2994f",
   "metadata": {},
   "source": [
    "### Наивный прогноз_1"
   ]
  },
  {
   "cell_type": "code",
   "execution_count": null,
   "id": "154f0893",
   "metadata": {},
   "outputs": [],
   "source": [
    "mean_value = train_data.mean()"
   ]
  },
  {
   "cell_type": "code",
   "execution_count": null,
   "id": "1f4d4fa0",
   "metadata": {},
   "outputs": [],
   "source": [
    "naive_preds = [mean_value]*len(test_data)"
   ]
  },
  {
   "cell_type": "code",
   "execution_count": null,
   "id": "824f34e7",
   "metadata": {},
   "outputs": [],
   "source": [
    "naive_preds = pd.Series(naive_preds, index=test_data.index)"
   ]
  },
  {
   "cell_type": "code",
   "execution_count": null,
   "id": "b1109598",
   "metadata": {
    "scrolled": false
   },
   "outputs": [],
   "source": [
    "plt.figure(figsize=(20, 10))\n",
    "sns.lineplot(test_data, color = \"red\")\n",
    "sns.lineplot(naive_preds, color = \"green\")\n",
    "\n",
    "plt.show()"
   ]
  },
  {
   "cell_type": "code",
   "execution_count": null,
   "id": "4f80269e",
   "metadata": {},
   "outputs": [],
   "source": [
    "print('MAE прогноза:', mae(test_data, naive_preds))\n",
    "print('R2 модели:', r2_score(test_data, naive_preds))"
   ]
  },
  {
   "cell_type": "markdown",
   "id": "a6ea43af",
   "metadata": {},
   "source": [
    "### Наивный прогноз_2"
   ]
  },
  {
   "cell_type": "markdown",
   "id": "96a7e8f1",
   "metadata": {},
   "source": [
    "$y_{t+1} = y_{t}$"
   ]
  },
  {
   "cell_type": "code",
   "execution_count": null,
   "id": "2662bc1a",
   "metadata": {},
   "outputs": [],
   "source": [
    "naive_preds_2 = [train_data[-1]]\n",
    "for i in range(1, len(test_data)):\n",
    "    naive_preds_2.append(naive_preds_2[i-1])"
   ]
  },
  {
   "cell_type": "code",
   "execution_count": null,
   "id": "a0c5611b",
   "metadata": {},
   "outputs": [],
   "source": [
    "naive_preds_2 = pd.Series(naive_preds_2, index=test_data.index)"
   ]
  },
  {
   "cell_type": "code",
   "execution_count": null,
   "id": "170121cf",
   "metadata": {},
   "outputs": [],
   "source": [
    "plt.figure(figsize=(20, 10))\n",
    "sns.lineplot(test_data, color = \"red\")\n",
    "sns.lineplot(naive_preds_2, color = \"green\")\n",
    "\n",
    "plt.show()"
   ]
  },
  {
   "cell_type": "code",
   "execution_count": null,
   "id": "3920e4bb",
   "metadata": {},
   "outputs": [],
   "source": [
    "print('MAE прогноза:', mae(test_data, naive_preds_2))\n",
    "print('R2 модели:', r2_score(test_data, naive_preds_2))"
   ]
  },
  {
   "cell_type": "markdown",
   "id": "cfcc77be",
   "metadata": {},
   "source": [
    "Мораль: простое не поможет!"
   ]
  },
  {
   "cell_type": "markdown",
   "id": "981c08be",
   "metadata": {},
   "source": [
    "## Экспоненциальное сглаживание"
   ]
  },
  {
   "cell_type": "markdown",
   "id": "10c2500d",
   "metadata": {},
   "source": [
    "В модели экспоненциального сглаживания (exponential smoothing) или экспоненциального скользящего среднего берем все предыдущие значения и задаем каждому из наблюдений определенный вес и (экспоненциально) уменьшаем этот вес по мере углубления в прошлое.\n",
    "\n",
    "$$\\hat{y}_{t+1} = \\alpha \\cdot y_t + (1-\\alpha) \\cdot \\hat{y}_{t}$$"
   ]
  },
  {
   "cell_type": "code",
   "execution_count": null,
   "id": "11e3b3f0",
   "metadata": {},
   "outputs": [],
   "source": [
    "train_data"
   ]
  },
  {
   "cell_type": "code",
   "execution_count": null,
   "id": "f3ee83e5",
   "metadata": {},
   "outputs": [],
   "source": [
    "alpha = 0.6\n",
    " \n",
    "# первое значение совпадает со значением временного ряда\n",
    "exp_smoothing = [train_data[0]]\n",
    " \n",
    "# в цикле for последовательно применяем формулу ко всем элементам ряда\n",
    "for i in range(1, len(train_data)):\n",
    "                 exp_smoothing.append(alpha *train_data[i] + (1 - alpha) * exp_smoothing[i - 1])\n"
   ]
  },
  {
   "cell_type": "code",
   "execution_count": null,
   "id": "b0587410",
   "metadata": {},
   "outputs": [],
   "source": [
    "exp_smoothing = pd.Series(exp_smoothing)\n",
    "exp_smoothing.index = train_data.index"
   ]
  },
  {
   "cell_type": "code",
   "execution_count": null,
   "id": "ddeaa987",
   "metadata": {},
   "outputs": [],
   "source": [
    "plt.figure(figsize=(20, 10))\n",
    "sns.lineplot(train_data);\n",
    "sns.lineplot(exp_smoothing)"
   ]
  },
  {
   "cell_type": "code",
   "execution_count": null,
   "id": "e72ec830",
   "metadata": {},
   "outputs": [],
   "source": [
    "exp_smoothing[-2:]"
   ]
  },
  {
   "cell_type": "markdown",
   "id": "e19ddec1",
   "metadata": {},
   "source": [
    "Акцент: прогнозирует  на шаг вперед"
   ]
  },
  {
   "cell_type": "markdown",
   "id": "7f064058",
   "metadata": {},
   "source": [
    "А что, если нужно на больше?"
   ]
  },
  {
   "cell_type": "markdown",
   "id": "26ae3391",
   "metadata": {},
   "source": [
    "### Prophet"
   ]
  },
  {
   "cell_type": "code",
   "execution_count": null,
   "id": "6cb2ff3a",
   "metadata": {},
   "outputs": [],
   "source": [
    "from prophet import Prophet"
   ]
  },
  {
   "cell_type": "code",
   "execution_count": null,
   "id": "14e74990",
   "metadata": {},
   "outputs": [],
   "source": [
    "train_data.head()"
   ]
  },
  {
   "cell_type": "code",
   "execution_count": null,
   "id": "5c16f81f",
   "metadata": {},
   "outputs": [],
   "source": [
    "train_data_prophet = train_data.reset_index().rename(columns={'date': 'ds', 'page_loads': 'y'})"
   ]
  },
  {
   "cell_type": "code",
   "execution_count": null,
   "id": "3f8e2c12",
   "metadata": {},
   "outputs": [],
   "source": [
    "model_prophet = Prophet()"
   ]
  },
  {
   "cell_type": "code",
   "execution_count": null,
   "id": "bd7279c0",
   "metadata": {},
   "outputs": [],
   "source": [
    "model_prophet.fit(train_data_prophet)"
   ]
  },
  {
   "cell_type": "code",
   "execution_count": null,
   "id": "880902bb",
   "metadata": {},
   "outputs": [],
   "source": [
    "prophet_future = model_prophet.make_future_dataframe(periods=len(test_data))\n",
    "prophet_future.tail()"
   ]
  },
  {
   "cell_type": "code",
   "execution_count": null,
   "id": "51dde749",
   "metadata": {},
   "outputs": [],
   "source": [
    "prophet_preds = model_prophet.predict(prophet_future)"
   ]
  },
  {
   "cell_type": "markdown",
   "id": "cc2be684",
   "metadata": {},
   "source": [
    "Описать, что выдает"
   ]
  },
  {
   "cell_type": "code",
   "execution_count": null,
   "id": "074a96c4",
   "metadata": {},
   "outputs": [],
   "source": [
    "#[['ds', 'yhat', 'yhat_lower', 'yhat_upper']].tail()\n",
    "prophet_preds.head()"
   ]
  },
  {
   "cell_type": "markdown",
   "id": "4dc5d339",
   "metadata": {},
   "source": [
    "Считаем метрики"
   ]
  },
  {
   "cell_type": "code",
   "execution_count": null,
   "id": "a90ed90b",
   "metadata": {},
   "outputs": [],
   "source": [
    "prophet_preds_value = prophet_preds[prophet_preds['ds'] >=division_date]['yhat']"
   ]
  },
  {
   "cell_type": "code",
   "execution_count": null,
   "id": "95b1887a",
   "metadata": {},
   "outputs": [],
   "source": [
    "print('MAE прогноза:', mae(test_data, prophet_preds_value))\n",
    "print('R2 модели:', r2_score(test_data, prophet_preds_value))"
   ]
  },
  {
   "cell_type": "markdown",
   "id": "ea061ba4",
   "metadata": {},
   "source": [
    "Рисуем смертные графики!"
   ]
  },
  {
   "cell_type": "code",
   "execution_count": null,
   "id": "17237c70",
   "metadata": {},
   "outputs": [],
   "source": [
    "prophet_preds_value.index = test_data.index"
   ]
  },
  {
   "cell_type": "code",
   "execution_count": null,
   "id": "f1bf2fa4",
   "metadata": {},
   "outputs": [],
   "source": [
    "plt.figure(figsize=(20, 10))\n",
    "sns.lineplot(test_data, color = \"red\")\n",
    "sns.lineplot(pd.Series(prophet_preds_value), color = \"green\")\n",
    "\n",
    "plt.show()"
   ]
  },
  {
   "cell_type": "markdown",
   "id": "8cd762b5",
   "metadata": {},
   "source": [
    "смотрим на креатив самой либы"
   ]
  },
  {
   "cell_type": "code",
   "execution_count": null,
   "id": "c91f405e",
   "metadata": {},
   "outputs": [],
   "source": [
    "fig1 = model_prophet.plot(prophet_preds)\n"
   ]
  },
  {
   "cell_type": "code",
   "execution_count": null,
   "id": "3a1c45b1",
   "metadata": {},
   "outputs": [],
   "source": [
    "fig1 = model_prophet.plot_components(prophet_preds)\n"
   ]
  },
  {
   "cell_type": "code",
   "execution_count": null,
   "id": "27144c5c",
   "metadata": {},
   "outputs": [],
   "source": [
    "from prophet.plot import plot_plotly, plot_components_plotly"
   ]
  },
  {
   "cell_type": "code",
   "execution_count": null,
   "id": "b4594370",
   "metadata": {},
   "outputs": [],
   "source": [
    "plot_plotly(model_prophet, prophet_preds)\n"
   ]
  },
  {
   "cell_type": "markdown",
   "id": "b65d66e5",
   "metadata": {},
   "source": [
    "# Бонус: Сложные валидации"
   ]
  },
  {
   "cell_type": "markdown",
   "id": "a7354fe1",
   "metadata": {},
   "source": [
    "# Бонус: Сравнение с ML-моделями"
   ]
  },
  {
   "cell_type": "markdown",
   "id": "03d58bb3",
   "metadata": {},
   "source": [
    "# Бонус: Проверка на стационарность"
   ]
  },
  {
   "cell_type": "markdown",
   "id": "96df375b",
   "metadata": {},
   "source": [
    "# Бонус: SARIMA"
   ]
  }
 ],
 "metadata": {
  "kernelspec": {
   "display_name": "Python 3 (ipykernel)",
   "language": "python",
   "name": "python3"
  },
  "language_info": {
   "codemirror_mode": {
    "name": "ipython",
    "version": 3
   },
   "file_extension": ".py",
   "mimetype": "text/x-python",
   "name": "python",
   "nbconvert_exporter": "python",
   "pygments_lexer": "ipython3",
   "version": "3.9.15"
  }
 },
 "nbformat": 4,
 "nbformat_minor": 5
}
